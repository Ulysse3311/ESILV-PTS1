{
 "cells": [
  {
   "cell_type": "code",
   "execution_count": 5,
   "metadata": {},
   "outputs": [],
   "source": [
    "import timeit"
   ]
  },
  {
   "cell_type": "markdown",
   "metadata": {},
   "source": [
    "# 1) Class definition :  the classic one"
   ]
  },
  {
   "cell_type": "code",
   "execution_count": 6,
   "metadata": {},
   "outputs": [],
   "source": [
    "def RotateArray(matrice,i):\n",
    "    # This function allow to rotate a face of the cube (3x3) by 90° clockwise and i time\n",
    "    if i != 0:\n",
    "        copy = [[0,0,0],[0,0,0],[0,0,0]]\n",
    "    for j in range(i):\n",
    "        for x in range(len(copy)):\n",
    "            for y in range(len(copy[x])):\n",
    "                copy[x][y]=matrice[2-y][x]\n",
    "        for x in range(len(copy)):\n",
    "            for y in range(len(copy[x])):\n",
    "                matrice[x][y]=copy[x][y]\n",
    "    return matrice\n",
    "        \n",
    "        \n",
    "class Redi():\n",
    "    def __init__(self,matrice=0):\n",
    "        #if matrice is not define, we return a fully 'finished' cube.\n",
    "        # color code : R for red, W for white, O for orange, Y for yellow, G for green, B for blue\n",
    "        if matrice == 0 :\n",
    "            matrice = []\n",
    "            for i in ('R','W','O','Y','G','B'):\n",
    "                matrice.append([[i,i,i],[i,'X',i],[i,i,i]])\n",
    "        self.cube = matrice\n",
    "\n",
    "    def _print(self):\n",
    "        for i in range(len(self.cube)):\n",
    "            print(f\"Side number {i}\")\n",
    "            for j in range(len(self.cube[i])):\n",
    "                x = 2 - j \n",
    "                print(self.cube[i][0][x] + ' '+ self.cube[i][1][x] + ' ' + self.cube[i][2][x])\n",
    "        \n",
    "    def rotate(self,side,y,z):\n",
    "        \"\"\"\n",
    "        to change a cube, you need to param the info about the corner to rotate : on which side it is located,\n",
    "        we always talk about the right-hand corner.\n",
    "        :param side: 0,1,2 or 3. it define on which face of the redik the corner we want to rotate is located on\n",
    "        :param y: up or down, it define the location of the corner we want to move \n",
    "        :param z: 1 or -1, it define in wich way we rotate the corner. 1 is clockwise and -1 is reverse\n",
    "        \n",
    "        \"\"\"\n",
    "        if(y == 'up'):\n",
    "            nextside =  (side+1)%4\n",
    "            # we rotate the top side relatively to the side the corner we want to rotate is on\n",
    "            # we will rotate the top side back after having rotated the corner\n",
    "            topside=4\n",
    "            self.cube[topside]=RotateArray(self.cube[topside],side)\n",
    "            \n",
    "            if(z==1):\n",
    "                \n",
    "                #first let's swap the corner piece\n",
    "                a = self.cube[side][2][2]\n",
    "                self.cube[side][2][2] = self.cube[nextside][0][2]\n",
    "                self.cube[nextside][0][2] = self.cube[topside][2][0]\n",
    "                self.cube[topside][2][0]=a\n",
    "                \n",
    "                #secondly we swap the middle righ piece\n",
    "                a = self.cube[side][2][1]\n",
    "                self.cube[side][2][1] = self.cube[nextside][1][2]\n",
    "                self.cube[nextside][1][2] =  self.cube[topside][1][0]\n",
    "                self.cube[topside][1][0] = a\n",
    "                \n",
    "                #to finish we swap the middle top piece\n",
    "                a = self.cube[side][1][2]\n",
    "                self.cube[side][1][2]=self.cube[nextside][0][1]\n",
    "                self.cube[nextside][0][1]=self.cube[topside][2][1]\n",
    "                self.cube[topside][2][1] = a\n",
    "                \n",
    "            elif(z==-1):\n",
    "                \n",
    "                #first let's swap the corner piece\n",
    "                a = self.cube[nextside][0][2]\n",
    "                self.cube[nextside][0][2] = self.cube[side][2][2]\n",
    "                self.cube[side][2][2] = self.cube[topside][2][0]\n",
    "                self.cube[topside][2][0] = a \n",
    "                \n",
    "                #secondly we swap the middle righ piece\n",
    "                a = self.cube[nextside][1][2]\n",
    "                self.cube[nextside][1][2] = self.cube[side][2][1]\n",
    "                self.cube[side][2][1] = self.cube[topside][1][0]\n",
    "                self.cube[topside][1][0] = a\n",
    "                \n",
    "                #to finish we swap the middle top piece\n",
    "                a = self.cube[nextside][0][1]\n",
    "                self.cube[nextside][0][1] = self.cube[side][1][2]\n",
    "                self.cube[side][1][2] = self.cube[topside][2][1]\n",
    "                self.cube[topside][2][1] = a\n",
    "            \n",
    "            #we rotate back the top side\n",
    "            self.cube[topside]=RotateArray(self.cube[topside],4-side)\n",
    "            \n",
    "        if y == 'down':\n",
    "            nextside =  (side+1)%4\n",
    "            # we rotate the bpt side relatively to the side the corner we want to rotate is on\n",
    "            # we will rotate the bot side back after having rotated the corner\n",
    "            botside=5\n",
    "            self.cube[botside]=RotateArray(self.cube[botside],4 - side) \n",
    "            \n",
    "            if z==1:\n",
    "                \n",
    "                #first let's swap the corner piece\n",
    "                a = self.cube[nextside][0][0]\n",
    "                self.cube[nextside][0][0] = self.cube[side][2][0]\n",
    "                self.cube[side][2][0] = self.cube[botside][2][2]\n",
    "                self.cube[botside][2][2] = a \n",
    "                \n",
    "                #secondly we swap the middle righ piece\n",
    "                a = self.cube[nextside][1][0]\n",
    "                self.cube[nextside][1][0] = self.cube[side][2][1]\n",
    "                self.cube[side][2][1] = self.cube[botside][1][2]\n",
    "                self.cube[botside][1][2] = a\n",
    "                \n",
    "                #to finish we swap the middle bottom piece\n",
    "                a = self.cube[nextside][0][1]\n",
    "                self.cube[nextside][0][1] = self.cube[side][1][0]\n",
    "                self.cube[side][1][0] = self.cube[botside][2][1]\n",
    "                self.cube[botside][2][1] = a\n",
    "            \n",
    "            if z == -1:\n",
    "                \n",
    "                #first let's swap the corner piece\n",
    "                a = self.cube[side][2][0]\n",
    "                self.cube[side][2][0] = self.cube[nextside][0][0]\n",
    "                self.cube[nextside][0][0] = self.cube[botside][2][2]\n",
    "                self.cube[botside][2][2]=a\n",
    "                \n",
    "                #secondly we swap the middle righ piece\n",
    "                a = self.cube[side][2][1]\n",
    "                self.cube[side][2][1] = self.cube[nextside][1][0]\n",
    "                self.cube[nextside][1][0] =  self.cube[botside][1][2]\n",
    "                self.cube[botside][1][2] = a\n",
    "                           \n",
    "                #to finish we swap the middle bottom piece\n",
    "                a = self.cube[side][1][0]\n",
    "                self.cube[side][1][0]=self.cube[nextside][0][1]\n",
    "                self.cube[nextside][0][1]=self.cube[botside][2][1]\n",
    "                self.cube[botside][2][1] = a\n",
    "            \n",
    "            # we rotate back the bot side\n",
    "            self.cube[botside]=RotateArray(self.cube[botside],side)"
   ]
  },
  {
   "cell_type": "markdown",
   "metadata": {},
   "source": [
    "# 2) Class definition : Using numpy array"
   ]
  },
  {
   "cell_type": "code",
   "execution_count": 5,
   "metadata": {},
   "outputs": [],
   "source": [
    "import numpy as np"
   ]
  },
  {
   "cell_type": "code",
   "execution_count": 9,
   "metadata": {},
   "outputs": [],
   "source": [
    "class Redi2():\n",
    "    def __init__(self,matrice=0):\n",
    "        #if matrice is not define, we return a fully 'finished' cube.\n",
    "        # color code : R for red, W for white, O for orange, Y for yellow, G for green, B for blue\n",
    "        if matrice == 0 :\n",
    "            matrice = []\n",
    "            for i in ('R','W','O','Y','G','B'):\n",
    "                matrice.append(np.matrix([[i,i,i],[i,'X',i],[i,i,i]]))\n",
    "        self.cube = matrice\n",
    "        \n",
    "    def _print(self):\n",
    "        for i in range(len(self.cube)):\n",
    "            print(f\"Side number {i}\")\n",
    "            for j in range(len(self.cube[i])):\n",
    "                x = 2 - j \n",
    "                print(self.cube[i][0][x] + ' '+ self.cube[i][1][x] + ' ' + self.cube[i][2][x])\n",
    "        \n",
    "    def rotate(self,side,y,z):\n",
    "        \"\"\"\n",
    "        to change a cube, you need to param the info about the corner to rotate : on which side it is located,\n",
    "        we always talk about the right-hand corner.\n",
    "        :param side: 0,1,2 or 3. it define on which face of the redik the corner we want to rotate is located on\n",
    "        :param y: up or down, it define the location of the corner we want to move \n",
    "        :param z: 1 or -1, it define in wich way we rotate the corner. 1 is clockwise and -1 is reverse\n",
    "        \n",
    "        \"\"\"\n",
    "        if(y == 'up'):\n",
    "            topside=4\n",
    "            \n",
    "            # we rotate the top side relatively to the side the corner we want to rotate is on\n",
    "            # we will rotate the top side back after having rotated the corner\n",
    "            self.cube[topside]=RotateArray(self.cube[topside],side)\n",
    "            \n",
    "            if(z==1):\n",
    "                nextside =  (side+1)%3\n",
    "                \n",
    "                #first let's swap the corner piece\n",
    "                a = self.cube[side][2][2]\n",
    "                self.cube[side][2][2] = self.cube[nextside][0][2]\n",
    "                self.cube[nextside][0][2] = self.cube[topside][2][0]\n",
    "                self.cube[topside][2][0]=a\n",
    "                \n",
    "                #secondly we swap the middle righ piece\n",
    "                a = self.cube[side][2][1]\n",
    "                self.cube[side][2][1] = self.cube[nextside][1][2]\n",
    "                self.cube[nextside][1][2] =  self.cube[topside][1][0]\n",
    "                self.cube[topside][1][0] = a\n",
    "                \n",
    "                #to finish we swap the middle top piece\n",
    "                a = self.cube[side][1][2]\n",
    "                self.cube[side][1][2]=self.cube[nextside][0][1]\n",
    "                self.cube[nextside][0][1]=self.cube[topside][2][1]\n",
    "                self.cube[topside][2][1] = a\n",
    "                \n",
    "            elif(z==-1):\n",
    "                nextside =  (side+1)%3\n",
    "                \n",
    "                #first let's swap the corner piece\n",
    "                a = self.cube[nextside][0][2]\n",
    "                self.cube[nextside][0][2] = self.cube[side][2][2]\n",
    "                self.cube[side][2][2] = self.cube[topside][2][0]\n",
    "                self.cube[topside][2][0] = a \n",
    "                \n",
    "                #secondly we swap the middle righ piece\n",
    "                a = self.cube[nextside][1][2]\n",
    "                self.cube[nextside][1][2] = self.cube[side][2][1]\n",
    "                self.cube[side][2][1] = self.cube[topside][1][0]\n",
    "                self.cube[topside][1][0] = a\n",
    "                \n",
    "                #to finish we swap the middle top piece\n",
    "                a = self.cube[nextside][0][1]\n",
    "                self.cube[nextside][0][1] = self.cube[side][1][2]\n",
    "                self.cube[side][1][2] = self.cube[topside][2][1]\n",
    "                self.cube[topside][2][1] = a\n",
    "                "
   ]
  },
  {
   "cell_type": "markdown",
   "metadata": {},
   "source": [
    "## Speed test for the creation of an instance"
   ]
  },
  {
   "cell_type": "code",
   "execution_count": 7,
   "metadata": {},
   "outputs": [
    {
     "name": "stdout",
     "output_type": "stream",
     "text": [
      "2.73 µs ± 986 ns per loop (mean ± std. dev. of 7 runs, 100000 loops each)\n"
     ]
    }
   ],
   "source": [
    "%timeit test =  Redi()"
   ]
  },
  {
   "cell_type": "code",
   "execution_count": 10,
   "metadata": {},
   "outputs": [
    {
     "name": "stdout",
     "output_type": "stream",
     "text": [
      "68.9 µs ± 7.54 µs per loop (mean ± std. dev. of 7 runs, 10000 loops each)\n"
     ]
    }
   ],
   "source": [
    "%timeit test2 =  Redi2()"
   ]
  },
  {
   "cell_type": "markdown",
   "metadata": {},
   "source": [
    "# First part of solver"
   ]
  },
  {
   "cell_type": "markdown",
   "metadata": {},
   "source": [
    "### Random shuffling"
   ]
  },
  {
   "cell_type": "code",
   "execution_count": 9,
   "metadata": {},
   "outputs": [],
   "source": [
    "import random as rd"
   ]
  },
  {
   "cell_type": "code",
   "execution_count": 13,
   "metadata": {},
   "outputs": [
    {
     "name": "stdout",
     "output_type": "stream",
     "text": [
      "Side number 0\n",
      "Y Y G\n",
      "Y X Y\n",
      "B O R\n",
      "Side number 1\n",
      "R B G\n",
      "B X W\n",
      "W W W\n",
      "Side number 2\n",
      "W O O\n",
      "R X R\n",
      "O G Y\n",
      "Side number 3\n",
      "Y O G\n",
      "Y X G\n",
      "B G R\n",
      "Side number 4\n",
      "G G O\n",
      "W X R\n",
      "R O W\n",
      "Side number 5\n",
      "Y B B\n",
      "R X B\n",
      "O W B\n"
     ]
    }
   ],
   "source": [
    "test_cube = Redi()\n",
    "for i in range(25):\n",
    "    test_cube.rotate(rd.choice([0,1,2,3]),rd.choice(['up','down']),rd.choice([-1,1]))\n",
    "test_cube._print()"
   ]
  },
  {
   "cell_type": "code",
   "execution_count": 28,
   "metadata": {},
   "outputs": [],
   "source": [
    "def SolverFirstPart(redi):\n",
    "    \"\"\"\n",
    "    cube: a redi cube entity\n",
    "    this function return a list of mouvement, mouvement are define by 3 attributes: side, up or down, clock-wise or not\n",
    "    \"\"\"\n",
    "    #lets rotate all 4 corner of white side until\n",
    "    for i in [(1,2,2),(1,2,0),(1,0,0),(1,0,2)]:\n",
    "        while redi.cube[i[0]][i[1]][i[2]] != 'W':\n",
    "            if i[1]==2:\n",
    "                if i[2]==0:\n",
    "                    redi.rotate(i[0],'down',1)\n",
    "                else :\n",
    "                    redi.rotate(i[0],'up',1)\n",
    "            else : \n",
    "                if i[2]==0:\n",
    "                    redi.rotate(i[0]-1,'down',1)\n",
    "                else :\n",
    "                    redi.rotate(i[0]-1,'up',1)\n",
    "\n",
    "    "
   ]
  },
  {
   "cell_type": "code",
   "execution_count": 24,
   "metadata": {},
   "outputs": [
    {
     "name": "stdout",
     "output_type": "stream",
     "text": [
      "(1, 2, 2)\n",
      "G\n",
      "(1, 2, 0)\n",
      "O\n",
      "(1, 0, 0)\n",
      "B\n",
      "(1, 0, 2)\n",
      "G\n",
      "R\n"
     ]
    }
   ],
   "source": [
    "SolverFirstPart(test_cube)"
   ]
  },
  {
   "cell_type": "code",
   "execution_count": 27,
   "metadata": {},
   "outputs": [
    {
     "name": "stdout",
     "output_type": "stream",
     "text": [
      "Side number 0\n",
      "Y G R\n",
      "Y X B\n",
      "B O R\n",
      "Side number 1\n",
      "W O W\n",
      "R X W\n",
      "W W W\n",
      "Side number 2\n",
      "O B O\n",
      "R X R\n",
      "O O Y\n",
      "Side number 3\n",
      "Y O G\n",
      "Y X G\n",
      "B G R\n",
      "Side number 4\n",
      "G Y G\n",
      "W X Y\n",
      "R W G\n",
      "Side number 5\n",
      "Y B B\n",
      "R X B\n",
      "O G B\n"
     ]
    }
   ],
   "source": [
    "test_cube._print()"
   ]
  },
  {
   "cell_type": "code",
   "execution_count": null,
   "metadata": {},
   "outputs": [],
   "source": []
  }
 ],
 "metadata": {
  "kernelspec": {
   "display_name": "Python 3",
   "language": "python",
   "name": "python3"
  },
  "language_info": {
   "codemirror_mode": {
    "name": "ipython",
    "version": 3
   },
   "file_extension": ".py",
   "mimetype": "text/x-python",
   "name": "python",
   "nbconvert_exporter": "python",
   "pygments_lexer": "ipython3",
   "version": "3.7.1"
  }
 },
 "nbformat": 4,
 "nbformat_minor": 2
}
